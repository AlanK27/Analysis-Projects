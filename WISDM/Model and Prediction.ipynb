{
 "cells": [
  {
   "cell_type": "code",
   "execution_count": 1,
   "metadata": {},
   "outputs": [],
   "source": [
    "import category_encoders as ce\n",
    "import math\n",
    "import matplotlib.pyplot as plt\n",
    "import numpy as np\n",
    "import numpy\n",
    "import pandas as pd\n",
    "import seaborn as sns\n",
    "import scipy.optimize\n",
    "import string\n",
    "import os\n",
    "from os import listdir\n",
    "from os.path import isfile, join"
   ]
  },
  {
   "cell_type": "code",
   "execution_count": 15,
   "metadata": {},
   "outputs": [],
   "source": [
    "action = str('walking, jogging, stairs, sitting, standing, typing, brushing teeth, eathing soup, eating chips, eating pasta, drinking from cup, eating sandwitch, soccer, tennis, basketball, writing, clapping, folding clothes')\n",
    "l = [n.lstrip() for n in action.split(\",\")]\n",
    "alpha = [n for n in string.ascii_uppercase[:19]]\n",
    "alpha.remove('N')\n",
    "dict_action = {k:v for k,v in zip(alpha,l)}"
   ]
  },
  {
   "cell_type": "markdown",
   "metadata": {},
   "source": [
    "# Feature Engineering"
   ]
  },
  {
   "cell_type": "markdown",
   "metadata": {},
   "source": [
    "Each data file contains 6 columns, Id, Activity, Timestamp, X, Y, Z. The directory is split into 4 sets from the two sensor, phone and watch, and inside contains either gyro or acceleration x y z data. Each data point in the datafile is captured at a rate of 50ms. \n",
    "<br>\n",
    "For feature engineering only the x y and z component is used. From there we are extracting the following:\n",
    "<br>\n",
    "X Y Z avg (3)\n",
    "<br>\n",
    "X Y Z std (3)\n",
    "<br>\n",
    "X Y Z var (3)\n",
    "<br>\n",
    "X Y Z abs range (3)\n",
    "<br>\n",
    "XYZ resultant (1)\n",
    "<br>\n",
    "Bin distributions of 10 for each axis totaling 30 features for x y z (30)\n",
    "<br>\n",
    "X Y Z sine fitted period (3)\n",
    "<br>\n",
    "<br>\n",
    "Total of 46 features are used to predict the activity of the user.\n"
   ]
  },
  {
   "cell_type": "code",
   "execution_count": 3,
   "metadata": {},
   "outputs": [
    {
     "data": {
      "text/plain": [
       "'C:\\\\Users\\\\kai_t\\\\000001 Jupyter\\\\wisdm\\\\project'"
      ]
     },
     "execution_count": 3,
     "metadata": {},
     "output_type": "execute_result"
    }
   ],
   "source": [
    "os.getcwd()"
   ]
  },
  {
   "cell_type": "code",
   "execution_count": 3,
   "metadata": {},
   "outputs": [],
   "source": [
    "phone_gyro = 'C:\\\\Users\\\\kai_t\\\\000001 Jupyter\\\\wisdm\\\\wisdm-dataset\\\\wisdm-dataset\\\\raw\\\\phone\\\\gyro'\n",
    "phone_accel = 'C:\\\\Users\\\\kai_t\\\\000001 Jupyter\\\\wisdm\\\\wisdm-dataset\\\\wisdm-dataset\\\\raw\\\\phone\\\\accel'\n",
    "watch_gyro = 'C:\\\\Users\\\\kai_t\\\\000001 Jupyter\\\\wisdm\\\\wisdm-dataset\\\\wisdm-dataset\\\\raw\\\\watch\\\\gyro'\n",
    "watch_accel = 'C:\\\\Users\\\\kai_t\\\\000001 Jupyter\\\\wisdm\\\\wisdm-dataset\\\\wisdm-dataset\\\\raw\\\\watch\\\\accel'\n",
    "\n",
    "paths = [phone_accel, phone_gyro, watch_accel, watch_gyro]\n",
    "\n",
    "file_list = [[f for f in listdir(n) if isfile(join(n, f))] for n in paths]\n",
    "onlyfiles = [item for items in file_list for item in items[1:]]"
   ]
  },
  {
   "cell_type": "code",
   "execution_count": 4,
   "metadata": {},
   "outputs": [],
   "source": [
    "li = ['x', 'y', 'z']\n",
    "column_list = []\n",
    "for n in li:\n",
    "    column_list.append(f'{n}_avg'.format(n))\n",
    "for n in li:\n",
    "    column_list.append(f'{n}_std'.format(n))\n",
    "for n in li:\n",
    "    column_list.append(f'{n}_var'.format(n))\n",
    "for n in li:\n",
    "    column_list.append(f'{n}_min'.format(n))\n",
    "for n in li:\n",
    "    column_list.append(f'{n}_range'.format(n))        "
   ]
  },
  {
   "cell_type": "code",
   "execution_count": 9,
   "metadata": {},
   "outputs": [],
   "source": [
    "class part_df():\n",
    "\n",
    "    \n",
    "    timing = 1000 # 200 for 10s, 1000 for 50s, 50ms per point\n",
    "    \n",
    "    def __init__(self, df):\n",
    "        self.df = df\n",
    "        self.dfx = pd.DataFrame()\n",
    "    \n",
    "    def avg_(self, info):\n",
    "        return pd.Series((info.loc['mean'][['x', 'y', 'z']]).values, index = column_list[:3])\n",
    "\n",
    "    def std_(self, info):\n",
    "        return pd.Series((info.loc['std'][['x', 'y', 'z']]).values, index = column_list[3:6])\n",
    "\n",
    "    def var_(self, df):\n",
    "        return pd.Series([df[xyz].var() for xyz in ['x', 'y', 'z']], index = column_list[6:9])\n",
    "\n",
    "    def min_(self, info):\n",
    "        return pd.Series((info.loc['min'][['x', 'y', 'z']]).values, index = column_list[9:12])\n",
    "\n",
    "    def rangee_(self, info):\n",
    "        return pd.Series((abs(info.loc['max'][['x', 'y', 'z']] - info.loc['min'][['x', 'y', 'z']])).values, \n",
    "                         index = column_list[12:15])\n",
    "\n",
    "    def resultant_(self, df):\n",
    "        return pd.Series((((df[['x', 'y', 'z']]**2).sum(axis=1))**(1/2)).mean(),\n",
    "                         index = ['resultant'])\n",
    "    \n",
    "    def dummies(self, df, info):\n",
    "        ranges = abs(info.loc['max']-info.loc['min'])\n",
    "        dums = pd.DataFrame()\n",
    "    \n",
    "        for xyz in ['x', 'y', 'z']:\n",
    "            rang = [(((ranges[xyz]/10) * n) + info.loc['min'][xyz]) for n in range(1,10)]\n",
    "            l = np.digitize(df[xyz], rang, right=False)\n",
    "            dums = pd.DataFrame(pd.concat([dums, pd.get_dummies(l, prefix = xyz).sum()/len(l)], axis =0, sort=False))\n",
    "        return dums.transpose()\n",
    "        \n",
    "    def action(self):\n",
    "        act_list = list(self.df.activity.unique())\n",
    "        for act in act_list:\n",
    "            dfn = self.df[self.df.activity == act]\n",
    "            idd = self.df['id'][0]\n",
    "            for lenn in range(int(len(dfn)/self.timing)):\n",
    "                dfn1 = dfn.iloc[((lenn)*self.timing):((lenn+1)*self.timing)]\n",
    "                info = dfn1.describe()\n",
    "                dfp = pd.DataFrame(pd.concat([self.avg_(info), self.std_(info), self.min_(info), self.rangee_(info),\n",
    "                                              self.var_(dfn1), self.resultant_(dfn1), \n",
    "                                              pd.Series(act, index = ['activity']), pd.Series(idd, index = ['id'])], axis = 0  \n",
    "                                    ))\n",
    "                dfp = pd.concat([self.dummies(dfn1, info), dfp.transpose()], axis = 1 ,sort=False)\n",
    "                self.dfx= pd.concat([self.dfx, dfp], axis = 0, sort=False)\n",
    "            \n",
    "        return self.dfx"
   ]
  },
  {
   "cell_type": "code",
   "execution_count": 6,
   "metadata": {},
   "outputs": [],
   "source": [
    "class sine():\n",
    "    \n",
    "    timing = 1000 # 200 for 10s, 1000 for 50s, 50ms per point\n",
    "    timerange = [n for n in range(1000)] # 200 for 10s, 1000 for 50s\n",
    "    \n",
    "    def __init__(self, df):\n",
    "        self.df = df\n",
    "        self.dfx = pd.DataFrame(columns=['xpeak', 'ypeak', 'zpeak'])\n",
    "        self.period = []\n",
    "        \n",
    "    def fit_sin(self, tt, yy):\n",
    "        '''Fit sin to the input time sequence, and return fitting parameters \"amp\", \"omega\", \"phase\", \"offset\", \"freq\", \"period\" and \"fitfunc\"'''\n",
    "        tt = numpy.array(tt)\n",
    "        yy = numpy.array(yy)\n",
    "        ff = numpy.fft.fftfreq(len(tt), (tt[1]-tt[0]))   # assume uniform spacing\n",
    "        Fyy = abs(numpy.fft.fft(yy))\n",
    "        guess_freq = abs(ff[numpy.argmax(Fyy[1:])+1])   # excluding the zero frequency \"peak\", which is related to offset\n",
    "        guess_amp = numpy.std(yy) * 2.**0.5\n",
    "        guess_offset = numpy.mean(yy)\n",
    "        guess = numpy.array([guess_amp, 2.*numpy.pi*guess_freq, 0., guess_offset])\n",
    "\n",
    "        def sinfunc(t, A, w, p, c):  return A * numpy.sin(w*t + p) + c\n",
    "        try:\n",
    "            popt, pcov = scipy.optimize.curve_fit(sinfunc, tt, yy, p0=guess)\n",
    "            A, w, p, c = popt\n",
    "            f = w/(2.*numpy.pi)\n",
    "            fitfunc = lambda t: A * numpy.sin(w*t + p) + c\n",
    "            return {\"amp\": A, \"omega\": w, \"phase\": p, \"offset\": c, \"freq\": f, \"period\": 1./f, \"fitfunc\": fitfunc, \"maxcov\": numpy.max(pcov), \"rawres\": (guess,popt,pcov)}\n",
    "        except:\n",
    "            return {'period':999999}\n",
    "        \n",
    "        \n",
    "    def action(self):\n",
    "        act_list = list(self.df.activity.unique())\n",
    "        for act in act_list:\n",
    "            dfn = self.df[self.df.activity == act]\n",
    "            for lenn in range(int(len(dfn)/self.timing)):\n",
    "                dfn1 = dfn.iloc[((lenn)*self.timing):((lenn+1)*self.timing)]\n",
    "                period = pd.Series([self.fit_sin(self.timerange, dfn1[xyz])['period'] for xyz in ['x', 'y', 'z']], index=['xpeak', 'ypeak', 'zpeak'])\n",
    "                self.dfx = self.dfx.append(period, ignore_index = True)\n",
    "        \n",
    "        return self.dfx\n",
    "            "
   ]
  },
  {
   "cell_type": "code",
   "execution_count": 13,
   "metadata": {},
   "outputs": [],
   "source": [
    "# Too lazy to run this again throughout the data. There are two cycling def runs, first one is using x=part_df()\n",
    "# and the second is using x = sin() to get the period of the fitted sine wave\n",
    "\n",
    "\n",
    "# def cycling(folder):\n",
    "#     df1 = pd.DataFrame()\n",
    "#     for dirr in folder:\n",
    "#         file_list = [f for f in listdir(dirr) if isfile(join(dirr, f))][1:]\n",
    "#         for file in file_list:\n",
    "#             print(file)\n",
    "#             dfq = pd.read_csv(dirr + '\\\\' + file , names = ['id', 'activity', 'timestamp', 'x', 'y', 'z'])\n",
    "#             dfq['z'] = list([np.float(n.split(';')[0]) for n in dfq['z']])\n",
    "#             x = part_df(dfq)\n",
    "#             dfxx = x.action()\n",
    "#             df1 = pd.concat([df1, dfxx], axis = 0, sort = False)\n",
    "        \n",
    "#     return df1.reset_index(drop=True)\n",
    "\n",
    "def cycling(folder):\n",
    "    df1 = pd.DataFrame()\n",
    "    for dirr in folder:\n",
    "        file_list = [f for f in listdir(dirr) if isfile(join(dirr, f))][1:]\n",
    "        for file in file_list:\n",
    "            print(file)\n",
    "            dfq = pd.read_csv(dirr + '\\\\' + file , names = ['id', 'activity', 'timestamp', 'x', 'y', 'z'])\n",
    "            dfq['z'] = list([np.float(n.split(';')[0]) for n in dfq['z']])\n",
    "            x = sine(dfq)\n",
    "            dfxx = x.action()\n",
    "            df1 = pd.concat([df1, dfxx], axis = 0, sort = False)\n",
    "        \n",
    "    return df1.reset_index(drop=True)\n",
    "\n",
    "\n",
    "# loading all the DF\n",
    "# df = pd.DataFrame()\n",
    "# for path_accel in paths:\n",
    "#     for accel in onlyfiles:\n",
    "#         dfq = pd.read_csv(path_accel + '\\\\' + accel, names = ['id', 'activity', 'timestamp', 'x', 'y', 'z'])\n",
    "#         dfq['z'] = list([np.float(n.split(';')[0]) for n in dfq['z']])\n",
    "#         df = pd.concat([df, dfq])"
   ]
  },
  {
   "cell_type": "code",
   "execution_count": 188,
   "metadata": {},
   "outputs": [],
   "source": [
    "# df1 = pd.read_csv('C:\\\\Users\\\\kai_t\\\\000001 Jupyter\\\\wisdm\\\\wisdm-dataset\\\\wisdm-dataset\\\\raw\\\\watch\\\\accel\\\\data_1614_accel_watch.txt',names = ['id', 'activity', 'timestamp', 'x', 'y', 'z'])\n",
    "# df1['z'] = list([np.float(n.split(';')[0]) for n in df1['z']])"
   ]
  },
  {
   "cell_type": "code",
   "execution_count": null,
   "metadata": {},
   "outputs": [],
   "source": []
  },
  {
   "cell_type": "code",
   "execution_count": 20,
   "metadata": {},
   "outputs": [],
   "source": [
    "# x.to_csv('C:\\\\Users\\\\kai_t\\\\000001 Jupyter\\\\wisdm\\\\project\\\\phonewatchdata1000.csv', index = False)"
   ]
  },
  {
   "cell_type": "markdown",
   "metadata": {},
   "source": [
    "# Modeling Start here"
   ]
  },
  {
   "cell_type": "code",
   "execution_count": 2,
   "metadata": {},
   "outputs": [],
   "source": [
    "x = pd.read_csv('C:\\\\Users\\\\kai_t\\\\000001 Jupyter\\\\wisdm\\\\project\\\\phonewatchdata.csv')"
   ]
  },
  {
   "cell_type": "code",
   "execution_count": 13,
   "metadata": {},
   "outputs": [],
   "source": [
    "x.drop(['x_min','y_min','z_min'], axis=1,inplace=True)"
   ]
  },
  {
   "cell_type": "code",
   "execution_count": 14,
   "metadata": {
    "scrolled": true
   },
   "outputs": [],
   "source": [
    "x.loc[:,x.columns[-3:]] = x.loc[:,x.columns[-3:]]/50"
   ]
  },
  {
   "cell_type": "code",
   "execution_count": 12,
   "metadata": {},
   "outputs": [],
   "source": [
    "x.fillna(99999, inplace=True)"
   ]
  },
  {
   "cell_type": "code",
   "execution_count": 17,
   "metadata": {
    "scrolled": true
   },
   "outputs": [
    {
     "data": {
      "text/html": [
       "<div>\n",
       "<style scoped>\n",
       "    .dataframe tbody tr th:only-of-type {\n",
       "        vertical-align: middle;\n",
       "    }\n",
       "\n",
       "    .dataframe tbody tr th {\n",
       "        vertical-align: top;\n",
       "    }\n",
       "\n",
       "    .dataframe thead th {\n",
       "        text-align: right;\n",
       "    }\n",
       "</style>\n",
       "<table border=\"1\" class=\"dataframe\">\n",
       "  <thead>\n",
       "    <tr style=\"text-align: right;\">\n",
       "      <th></th>\n",
       "      <th>count</th>\n",
       "      <th>mean</th>\n",
       "      <th>std</th>\n",
       "      <th>min</th>\n",
       "      <th>25%</th>\n",
       "      <th>50%</th>\n",
       "      <th>75%</th>\n",
       "      <th>max</th>\n",
       "    </tr>\n",
       "  </thead>\n",
       "  <tbody>\n",
       "    <tr>\n",
       "      <th>x_0</th>\n",
       "      <td>8547.0</td>\n",
       "      <td>0.014757</td>\n",
       "      <td>0.041281</td>\n",
       "      <td>1.000000e-03</td>\n",
       "      <td>0.002000</td>\n",
       "      <td>0.005000</td>\n",
       "      <td>0.011000</td>\n",
       "      <td>0.875000</td>\n",
       "    </tr>\n",
       "    <tr>\n",
       "      <th>x_1</th>\n",
       "      <td>8547.0</td>\n",
       "      <td>0.035698</td>\n",
       "      <td>0.069412</td>\n",
       "      <td>1.000000e-03</td>\n",
       "      <td>0.005000</td>\n",
       "      <td>0.012000</td>\n",
       "      <td>0.035000</td>\n",
       "      <td>0.921000</td>\n",
       "    </tr>\n",
       "    <tr>\n",
       "      <th>x_2</th>\n",
       "      <td>8547.0</td>\n",
       "      <td>0.073428</td>\n",
       "      <td>0.099009</td>\n",
       "      <td>1.000000e-03</td>\n",
       "      <td>0.014000</td>\n",
       "      <td>0.038000</td>\n",
       "      <td>0.095000</td>\n",
       "      <td>0.924000</td>\n",
       "    </tr>\n",
       "    <tr>\n",
       "      <th>x_3</th>\n",
       "      <td>8547.0</td>\n",
       "      <td>0.145379</td>\n",
       "      <td>0.152511</td>\n",
       "      <td>1.000000e-03</td>\n",
       "      <td>0.039000</td>\n",
       "      <td>0.100000</td>\n",
       "      <td>0.190000</td>\n",
       "      <td>0.958000</td>\n",
       "    </tr>\n",
       "    <tr>\n",
       "      <th>x_4</th>\n",
       "      <td>8547.0</td>\n",
       "      <td>0.225165</td>\n",
       "      <td>0.181642</td>\n",
       "      <td>1.000000e-03</td>\n",
       "      <td>0.089000</td>\n",
       "      <td>0.183000</td>\n",
       "      <td>0.311000</td>\n",
       "      <td>0.952000</td>\n",
       "    </tr>\n",
       "    <tr>\n",
       "      <th>x_5</th>\n",
       "      <td>8547.0</td>\n",
       "      <td>0.226321</td>\n",
       "      <td>0.179105</td>\n",
       "      <td>1.000000e-03</td>\n",
       "      <td>0.090000</td>\n",
       "      <td>0.190000</td>\n",
       "      <td>0.318000</td>\n",
       "      <td>0.956000</td>\n",
       "    </tr>\n",
       "    <tr>\n",
       "      <th>x_6</th>\n",
       "      <td>8547.0</td>\n",
       "      <td>0.147330</td>\n",
       "      <td>0.148961</td>\n",
       "      <td>1.000000e-03</td>\n",
       "      <td>0.040000</td>\n",
       "      <td>0.106000</td>\n",
       "      <td>0.201000</td>\n",
       "      <td>0.968000</td>\n",
       "    </tr>\n",
       "    <tr>\n",
       "      <th>x_7</th>\n",
       "      <td>8547.0</td>\n",
       "      <td>0.076018</td>\n",
       "      <td>0.102148</td>\n",
       "      <td>1.000000e-03</td>\n",
       "      <td>0.014000</td>\n",
       "      <td>0.040000</td>\n",
       "      <td>0.097000</td>\n",
       "      <td>0.953000</td>\n",
       "    </tr>\n",
       "    <tr>\n",
       "      <th>x_8</th>\n",
       "      <td>8547.0</td>\n",
       "      <td>0.036514</td>\n",
       "      <td>0.069179</td>\n",
       "      <td>1.000000e-03</td>\n",
       "      <td>0.005000</td>\n",
       "      <td>0.013000</td>\n",
       "      <td>0.037000</td>\n",
       "      <td>0.934000</td>\n",
       "    </tr>\n",
       "    <tr>\n",
       "      <th>x_9</th>\n",
       "      <td>8547.0</td>\n",
       "      <td>0.019391</td>\n",
       "      <td>0.052365</td>\n",
       "      <td>1.000000e-03</td>\n",
       "      <td>0.002000</td>\n",
       "      <td>0.005000</td>\n",
       "      <td>0.011000</td>\n",
       "      <td>0.905000</td>\n",
       "    </tr>\n",
       "    <tr>\n",
       "      <th>y_0</th>\n",
       "      <td>8547.0</td>\n",
       "      <td>0.017615</td>\n",
       "      <td>0.047565</td>\n",
       "      <td>1.000000e-03</td>\n",
       "      <td>0.002000</td>\n",
       "      <td>0.005000</td>\n",
       "      <td>0.011000</td>\n",
       "      <td>0.751000</td>\n",
       "    </tr>\n",
       "    <tr>\n",
       "      <th>y_1</th>\n",
       "      <td>8547.0</td>\n",
       "      <td>0.031654</td>\n",
       "      <td>0.059464</td>\n",
       "      <td>1.000000e-03</td>\n",
       "      <td>0.005000</td>\n",
       "      <td>0.013000</td>\n",
       "      <td>0.035000</td>\n",
       "      <td>0.844000</td>\n",
       "    </tr>\n",
       "    <tr>\n",
       "      <th>y_2</th>\n",
       "      <td>8547.0</td>\n",
       "      <td>0.072478</td>\n",
       "      <td>0.097087</td>\n",
       "      <td>1.000000e-03</td>\n",
       "      <td>0.014000</td>\n",
       "      <td>0.040000</td>\n",
       "      <td>0.092000</td>\n",
       "      <td>0.980000</td>\n",
       "    </tr>\n",
       "    <tr>\n",
       "      <th>y_3</th>\n",
       "      <td>8547.0</td>\n",
       "      <td>0.143772</td>\n",
       "      <td>0.144767</td>\n",
       "      <td>1.000000e-03</td>\n",
       "      <td>0.042000</td>\n",
       "      <td>0.100000</td>\n",
       "      <td>0.196000</td>\n",
       "      <td>0.947000</td>\n",
       "    </tr>\n",
       "    <tr>\n",
       "      <th>y_4</th>\n",
       "      <td>8547.0</td>\n",
       "      <td>0.224965</td>\n",
       "      <td>0.176814</td>\n",
       "      <td>1.000000e-03</td>\n",
       "      <td>0.092000</td>\n",
       "      <td>0.185000</td>\n",
       "      <td>0.309000</td>\n",
       "      <td>0.952000</td>\n",
       "    </tr>\n",
       "    <tr>\n",
       "      <th>y_5</th>\n",
       "      <td>8547.0</td>\n",
       "      <td>0.227274</td>\n",
       "      <td>0.176652</td>\n",
       "      <td>1.000000e-03</td>\n",
       "      <td>0.098000</td>\n",
       "      <td>0.188000</td>\n",
       "      <td>0.309000</td>\n",
       "      <td>0.964000</td>\n",
       "    </tr>\n",
       "    <tr>\n",
       "      <th>y_6</th>\n",
       "      <td>8547.0</td>\n",
       "      <td>0.149166</td>\n",
       "      <td>0.145874</td>\n",
       "      <td>1.000000e-03</td>\n",
       "      <td>0.046000</td>\n",
       "      <td>0.106000</td>\n",
       "      <td>0.205000</td>\n",
       "      <td>0.963000</td>\n",
       "    </tr>\n",
       "    <tr>\n",
       "      <th>y_7</th>\n",
       "      <td>8547.0</td>\n",
       "      <td>0.080711</td>\n",
       "      <td>0.106294</td>\n",
       "      <td>1.000000e-03</td>\n",
       "      <td>0.015000</td>\n",
       "      <td>0.042000</td>\n",
       "      <td>0.103000</td>\n",
       "      <td>0.948000</td>\n",
       "    </tr>\n",
       "    <tr>\n",
       "      <th>y_8</th>\n",
       "      <td>8547.0</td>\n",
       "      <td>0.037616</td>\n",
       "      <td>0.067814</td>\n",
       "      <td>1.000000e-03</td>\n",
       "      <td>0.005000</td>\n",
       "      <td>0.014000</td>\n",
       "      <td>0.039000</td>\n",
       "      <td>0.869000</td>\n",
       "    </tr>\n",
       "    <tr>\n",
       "      <th>y_9</th>\n",
       "      <td>8547.0</td>\n",
       "      <td>0.014749</td>\n",
       "      <td>0.038129</td>\n",
       "      <td>1.000000e-03</td>\n",
       "      <td>0.003000</td>\n",
       "      <td>0.005000</td>\n",
       "      <td>0.012000</td>\n",
       "      <td>0.874000</td>\n",
       "    </tr>\n",
       "    <tr>\n",
       "      <th>z_0</th>\n",
       "      <td>8547.0</td>\n",
       "      <td>0.013626</td>\n",
       "      <td>0.037390</td>\n",
       "      <td>1.000000e-03</td>\n",
       "      <td>0.003000</td>\n",
       "      <td>0.005000</td>\n",
       "      <td>0.012000</td>\n",
       "      <td>0.936000</td>\n",
       "    </tr>\n",
       "    <tr>\n",
       "      <th>z_1</th>\n",
       "      <td>8547.0</td>\n",
       "      <td>0.036971</td>\n",
       "      <td>0.073993</td>\n",
       "      <td>1.000000e-03</td>\n",
       "      <td>0.005000</td>\n",
       "      <td>0.014000</td>\n",
       "      <td>0.036000</td>\n",
       "      <td>0.950000</td>\n",
       "    </tr>\n",
       "    <tr>\n",
       "      <th>z_2</th>\n",
       "      <td>8547.0</td>\n",
       "      <td>0.074316</td>\n",
       "      <td>0.099430</td>\n",
       "      <td>1.000000e-03</td>\n",
       "      <td>0.016000</td>\n",
       "      <td>0.041000</td>\n",
       "      <td>0.091000</td>\n",
       "      <td>0.940000</td>\n",
       "    </tr>\n",
       "    <tr>\n",
       "      <th>z_3</th>\n",
       "      <td>8547.0</td>\n",
       "      <td>0.138346</td>\n",
       "      <td>0.137829</td>\n",
       "      <td>1.000000e-03</td>\n",
       "      <td>0.042000</td>\n",
       "      <td>0.098000</td>\n",
       "      <td>0.186500</td>\n",
       "      <td>0.921000</td>\n",
       "    </tr>\n",
       "    <tr>\n",
       "      <th>z_4</th>\n",
       "      <td>8547.0</td>\n",
       "      <td>0.218526</td>\n",
       "      <td>0.167637</td>\n",
       "      <td>1.000000e-03</td>\n",
       "      <td>0.097000</td>\n",
       "      <td>0.185000</td>\n",
       "      <td>0.295000</td>\n",
       "      <td>0.953000</td>\n",
       "    </tr>\n",
       "    <tr>\n",
       "      <th>z_5</th>\n",
       "      <td>8547.0</td>\n",
       "      <td>0.235650</td>\n",
       "      <td>0.177725</td>\n",
       "      <td>1.000000e-03</td>\n",
       "      <td>0.105000</td>\n",
       "      <td>0.205000</td>\n",
       "      <td>0.317000</td>\n",
       "      <td>0.962000</td>\n",
       "    </tr>\n",
       "    <tr>\n",
       "      <th>z_6</th>\n",
       "      <td>8547.0</td>\n",
       "      <td>0.152577</td>\n",
       "      <td>0.147692</td>\n",
       "      <td>1.000000e-03</td>\n",
       "      <td>0.046000</td>\n",
       "      <td>0.114000</td>\n",
       "      <td>0.211000</td>\n",
       "      <td>0.979000</td>\n",
       "    </tr>\n",
       "    <tr>\n",
       "      <th>z_7</th>\n",
       "      <td>8547.0</td>\n",
       "      <td>0.079331</td>\n",
       "      <td>0.101878</td>\n",
       "      <td>1.000000e-03</td>\n",
       "      <td>0.016000</td>\n",
       "      <td>0.045000</td>\n",
       "      <td>0.102000</td>\n",
       "      <td>0.967000</td>\n",
       "    </tr>\n",
       "    <tr>\n",
       "      <th>z_8</th>\n",
       "      <td>8547.0</td>\n",
       "      <td>0.037044</td>\n",
       "      <td>0.068247</td>\n",
       "      <td>1.000000e-03</td>\n",
       "      <td>0.006000</td>\n",
       "      <td>0.015000</td>\n",
       "      <td>0.039000</td>\n",
       "      <td>0.948000</td>\n",
       "    </tr>\n",
       "    <tr>\n",
       "      <th>z_9</th>\n",
       "      <td>8547.0</td>\n",
       "      <td>0.013612</td>\n",
       "      <td>0.030672</td>\n",
       "      <td>1.000000e-03</td>\n",
       "      <td>0.003000</td>\n",
       "      <td>0.006000</td>\n",
       "      <td>0.013000</td>\n",
       "      <td>0.949000</td>\n",
       "    </tr>\n",
       "    <tr>\n",
       "      <th>x_avg</th>\n",
       "      <td>8547.0</td>\n",
       "      <td>0.124132</td>\n",
       "      <td>4.162784</td>\n",
       "      <td>-1.096199e+01</td>\n",
       "      <td>-0.933654</td>\n",
       "      <td>-0.001424</td>\n",
       "      <td>0.885299</td>\n",
       "      <td>13.605880</td>\n",
       "    </tr>\n",
       "    <tr>\n",
       "      <th>y_avg</th>\n",
       "      <td>8547.0</td>\n",
       "      <td>-1.715872</td>\n",
       "      <td>4.359454</td>\n",
       "      <td>-1.837963e+01</td>\n",
       "      <td>-4.580333</td>\n",
       "      <td>-0.054241</td>\n",
       "      <td>0.002841</td>\n",
       "      <td>10.287771</td>\n",
       "    </tr>\n",
       "    <tr>\n",
       "      <th>z_avg</th>\n",
       "      <td>8547.0</td>\n",
       "      <td>0.454030</td>\n",
       "      <td>3.123106</td>\n",
       "      <td>-9.739088e+00</td>\n",
       "      <td>-0.096579</td>\n",
       "      <td>0.000806</td>\n",
       "      <td>1.053252</td>\n",
       "      <td>9.928367</td>\n",
       "    </tr>\n",
       "    <tr>\n",
       "      <th>x_std</th>\n",
       "      <td>8547.0</td>\n",
       "      <td>1.824178</td>\n",
       "      <td>2.288196</td>\n",
       "      <td>1.269907e-03</td>\n",
       "      <td>0.191067</td>\n",
       "      <td>0.966564</td>\n",
       "      <td>2.540607</td>\n",
       "      <td>16.952346</td>\n",
       "    </tr>\n",
       "    <tr>\n",
       "      <th>y_std</th>\n",
       "      <td>8547.0</td>\n",
       "      <td>1.837036</td>\n",
       "      <td>2.451217</td>\n",
       "      <td>6.364904e-04</td>\n",
       "      <td>0.168178</td>\n",
       "      <td>0.861742</td>\n",
       "      <td>2.619975</td>\n",
       "      <td>23.212013</td>\n",
       "    </tr>\n",
       "    <tr>\n",
       "      <th>z_std</th>\n",
       "      <td>8547.0</td>\n",
       "      <td>1.674670</td>\n",
       "      <td>2.058071</td>\n",
       "      <td>6.324172e-04</td>\n",
       "      <td>0.165227</td>\n",
       "      <td>0.803202</td>\n",
       "      <td>2.574014</td>\n",
       "      <td>20.719471</td>\n",
       "    </tr>\n",
       "    <tr>\n",
       "      <th>x_range</th>\n",
       "      <td>8547.0</td>\n",
       "      <td>12.126167</td>\n",
       "      <td>13.192243</td>\n",
       "      <td>1.065264e-02</td>\n",
       "      <td>1.638193</td>\n",
       "      <td>7.376956</td>\n",
       "      <td>19.241002</td>\n",
       "      <td>138.398608</td>\n",
       "    </tr>\n",
       "    <tr>\n",
       "      <th>y_range</th>\n",
       "      <td>8547.0</td>\n",
       "      <td>11.589398</td>\n",
       "      <td>13.086020</td>\n",
       "      <td>6.790161e-03</td>\n",
       "      <td>1.455587</td>\n",
       "      <td>6.655772</td>\n",
       "      <td>18.136467</td>\n",
       "      <td>114.079577</td>\n",
       "    </tr>\n",
       "    <tr>\n",
       "      <th>z_range</th>\n",
       "      <td>8547.0</td>\n",
       "      <td>11.477159</td>\n",
       "      <td>13.662565</td>\n",
       "      <td>4.318237e-03</td>\n",
       "      <td>1.395364</td>\n",
       "      <td>5.709727</td>\n",
       "      <td>16.939974</td>\n",
       "      <td>136.451454</td>\n",
       "    </tr>\n",
       "    <tr>\n",
       "      <th>x_var</th>\n",
       "      <td>8547.0</td>\n",
       "      <td>8.562856</td>\n",
       "      <td>21.064945</td>\n",
       "      <td>1.612663e-06</td>\n",
       "      <td>0.036506</td>\n",
       "      <td>0.934247</td>\n",
       "      <td>6.454685</td>\n",
       "      <td>287.382044</td>\n",
       "    </tr>\n",
       "    <tr>\n",
       "      <th>y_var</th>\n",
       "      <td>8547.0</td>\n",
       "      <td>9.382464</td>\n",
       "      <td>24.708685</td>\n",
       "      <td>4.051200e-07</td>\n",
       "      <td>0.028284</td>\n",
       "      <td>0.742600</td>\n",
       "      <td>6.864270</td>\n",
       "      <td>538.797542</td>\n",
       "    </tr>\n",
       "    <tr>\n",
       "      <th>z_var</th>\n",
       "      <td>8547.0</td>\n",
       "      <td>7.039679</td>\n",
       "      <td>16.823212</td>\n",
       "      <td>3.999515e-07</td>\n",
       "      <td>0.027300</td>\n",
       "      <td>0.645133</td>\n",
       "      <td>6.625549</td>\n",
       "      <td>429.296468</td>\n",
       "    </tr>\n",
       "    <tr>\n",
       "      <th>resultant</th>\n",
       "      <td>8547.0</td>\n",
       "      <td>6.557978</td>\n",
       "      <td>4.886732</td>\n",
       "      <td>1.672634e-03</td>\n",
       "      <td>1.049749</td>\n",
       "      <td>9.501908</td>\n",
       "      <td>10.072297</td>\n",
       "      <td>35.046337</td>\n",
       "    </tr>\n",
       "    <tr>\n",
       "      <th>id</th>\n",
       "      <td>8547.0</td>\n",
       "      <td>1626.510472</td>\n",
       "      <td>14.654927</td>\n",
       "      <td>1.600000e+03</td>\n",
       "      <td>1614.000000</td>\n",
       "      <td>1627.000000</td>\n",
       "      <td>1639.000000</td>\n",
       "      <td>1650.000000</td>\n",
       "    </tr>\n",
       "    <tr>\n",
       "      <th>xpeak</th>\n",
       "      <td>8547.0</td>\n",
       "      <td>1002.876147</td>\n",
       "      <td>4356.724706</td>\n",
       "      <td>-1.885814e+01</td>\n",
       "      <td>0.183446</td>\n",
       "      <td>0.512512</td>\n",
       "      <td>3.213776</td>\n",
       "      <td>19999.980000</td>\n",
       "    </tr>\n",
       "    <tr>\n",
       "      <th>ypeak</th>\n",
       "      <td>8547.0</td>\n",
       "      <td>1033.635687</td>\n",
       "      <td>4418.965254</td>\n",
       "      <td>-6.003235e+02</td>\n",
       "      <td>0.171871</td>\n",
       "      <td>0.412255</td>\n",
       "      <td>2.990420</td>\n",
       "      <td>19999.980000</td>\n",
       "    </tr>\n",
       "    <tr>\n",
       "      <th>zpeak</th>\n",
       "      <td>8547.0</td>\n",
       "      <td>1015.238988</td>\n",
       "      <td>4380.669733</td>\n",
       "      <td>-8.839996e+00</td>\n",
       "      <td>0.210161</td>\n",
       "      <td>1.005205</td>\n",
       "      <td>3.538572</td>\n",
       "      <td>19999.980000</td>\n",
       "    </tr>\n",
       "  </tbody>\n",
       "</table>\n",
       "</div>"
      ],
      "text/plain": [
       "            count         mean          std           min          25%  \\\n",
       "x_0        8547.0     0.014757     0.041281  1.000000e-03     0.002000   \n",
       "x_1        8547.0     0.035698     0.069412  1.000000e-03     0.005000   \n",
       "x_2        8547.0     0.073428     0.099009  1.000000e-03     0.014000   \n",
       "x_3        8547.0     0.145379     0.152511  1.000000e-03     0.039000   \n",
       "x_4        8547.0     0.225165     0.181642  1.000000e-03     0.089000   \n",
       "x_5        8547.0     0.226321     0.179105  1.000000e-03     0.090000   \n",
       "x_6        8547.0     0.147330     0.148961  1.000000e-03     0.040000   \n",
       "x_7        8547.0     0.076018     0.102148  1.000000e-03     0.014000   \n",
       "x_8        8547.0     0.036514     0.069179  1.000000e-03     0.005000   \n",
       "x_9        8547.0     0.019391     0.052365  1.000000e-03     0.002000   \n",
       "y_0        8547.0     0.017615     0.047565  1.000000e-03     0.002000   \n",
       "y_1        8547.0     0.031654     0.059464  1.000000e-03     0.005000   \n",
       "y_2        8547.0     0.072478     0.097087  1.000000e-03     0.014000   \n",
       "y_3        8547.0     0.143772     0.144767  1.000000e-03     0.042000   \n",
       "y_4        8547.0     0.224965     0.176814  1.000000e-03     0.092000   \n",
       "y_5        8547.0     0.227274     0.176652  1.000000e-03     0.098000   \n",
       "y_6        8547.0     0.149166     0.145874  1.000000e-03     0.046000   \n",
       "y_7        8547.0     0.080711     0.106294  1.000000e-03     0.015000   \n",
       "y_8        8547.0     0.037616     0.067814  1.000000e-03     0.005000   \n",
       "y_9        8547.0     0.014749     0.038129  1.000000e-03     0.003000   \n",
       "z_0        8547.0     0.013626     0.037390  1.000000e-03     0.003000   \n",
       "z_1        8547.0     0.036971     0.073993  1.000000e-03     0.005000   \n",
       "z_2        8547.0     0.074316     0.099430  1.000000e-03     0.016000   \n",
       "z_3        8547.0     0.138346     0.137829  1.000000e-03     0.042000   \n",
       "z_4        8547.0     0.218526     0.167637  1.000000e-03     0.097000   \n",
       "z_5        8547.0     0.235650     0.177725  1.000000e-03     0.105000   \n",
       "z_6        8547.0     0.152577     0.147692  1.000000e-03     0.046000   \n",
       "z_7        8547.0     0.079331     0.101878  1.000000e-03     0.016000   \n",
       "z_8        8547.0     0.037044     0.068247  1.000000e-03     0.006000   \n",
       "z_9        8547.0     0.013612     0.030672  1.000000e-03     0.003000   \n",
       "x_avg      8547.0     0.124132     4.162784 -1.096199e+01    -0.933654   \n",
       "y_avg      8547.0    -1.715872     4.359454 -1.837963e+01    -4.580333   \n",
       "z_avg      8547.0     0.454030     3.123106 -9.739088e+00    -0.096579   \n",
       "x_std      8547.0     1.824178     2.288196  1.269907e-03     0.191067   \n",
       "y_std      8547.0     1.837036     2.451217  6.364904e-04     0.168178   \n",
       "z_std      8547.0     1.674670     2.058071  6.324172e-04     0.165227   \n",
       "x_range    8547.0    12.126167    13.192243  1.065264e-02     1.638193   \n",
       "y_range    8547.0    11.589398    13.086020  6.790161e-03     1.455587   \n",
       "z_range    8547.0    11.477159    13.662565  4.318237e-03     1.395364   \n",
       "x_var      8547.0     8.562856    21.064945  1.612663e-06     0.036506   \n",
       "y_var      8547.0     9.382464    24.708685  4.051200e-07     0.028284   \n",
       "z_var      8547.0     7.039679    16.823212  3.999515e-07     0.027300   \n",
       "resultant  8547.0     6.557978     4.886732  1.672634e-03     1.049749   \n",
       "id         8547.0  1626.510472    14.654927  1.600000e+03  1614.000000   \n",
       "xpeak      8547.0  1002.876147  4356.724706 -1.885814e+01     0.183446   \n",
       "ypeak      8547.0  1033.635687  4418.965254 -6.003235e+02     0.171871   \n",
       "zpeak      8547.0  1015.238988  4380.669733 -8.839996e+00     0.210161   \n",
       "\n",
       "                   50%          75%           max  \n",
       "x_0           0.005000     0.011000      0.875000  \n",
       "x_1           0.012000     0.035000      0.921000  \n",
       "x_2           0.038000     0.095000      0.924000  \n",
       "x_3           0.100000     0.190000      0.958000  \n",
       "x_4           0.183000     0.311000      0.952000  \n",
       "x_5           0.190000     0.318000      0.956000  \n",
       "x_6           0.106000     0.201000      0.968000  \n",
       "x_7           0.040000     0.097000      0.953000  \n",
       "x_8           0.013000     0.037000      0.934000  \n",
       "x_9           0.005000     0.011000      0.905000  \n",
       "y_0           0.005000     0.011000      0.751000  \n",
       "y_1           0.013000     0.035000      0.844000  \n",
       "y_2           0.040000     0.092000      0.980000  \n",
       "y_3           0.100000     0.196000      0.947000  \n",
       "y_4           0.185000     0.309000      0.952000  \n",
       "y_5           0.188000     0.309000      0.964000  \n",
       "y_6           0.106000     0.205000      0.963000  \n",
       "y_7           0.042000     0.103000      0.948000  \n",
       "y_8           0.014000     0.039000      0.869000  \n",
       "y_9           0.005000     0.012000      0.874000  \n",
       "z_0           0.005000     0.012000      0.936000  \n",
       "z_1           0.014000     0.036000      0.950000  \n",
       "z_2           0.041000     0.091000      0.940000  \n",
       "z_3           0.098000     0.186500      0.921000  \n",
       "z_4           0.185000     0.295000      0.953000  \n",
       "z_5           0.205000     0.317000      0.962000  \n",
       "z_6           0.114000     0.211000      0.979000  \n",
       "z_7           0.045000     0.102000      0.967000  \n",
       "z_8           0.015000     0.039000      0.948000  \n",
       "z_9           0.006000     0.013000      0.949000  \n",
       "x_avg        -0.001424     0.885299     13.605880  \n",
       "y_avg        -0.054241     0.002841     10.287771  \n",
       "z_avg         0.000806     1.053252      9.928367  \n",
       "x_std         0.966564     2.540607     16.952346  \n",
       "y_std         0.861742     2.619975     23.212013  \n",
       "z_std         0.803202     2.574014     20.719471  \n",
       "x_range       7.376956    19.241002    138.398608  \n",
       "y_range       6.655772    18.136467    114.079577  \n",
       "z_range       5.709727    16.939974    136.451454  \n",
       "x_var         0.934247     6.454685    287.382044  \n",
       "y_var         0.742600     6.864270    538.797542  \n",
       "z_var         0.645133     6.625549    429.296468  \n",
       "resultant     9.501908    10.072297     35.046337  \n",
       "id         1627.000000  1639.000000   1650.000000  \n",
       "xpeak         0.512512     3.213776  19999.980000  \n",
       "ypeak         0.412255     2.990420  19999.980000  \n",
       "zpeak         1.005205     3.538572  19999.980000  "
      ]
     },
     "execution_count": 17,
     "metadata": {},
     "output_type": "execute_result"
    }
   ],
   "source": [
    "x.describe().transpose()"
   ]
  },
  {
   "cell_type": "code",
   "execution_count": 11,
   "metadata": {},
   "outputs": [
    {
     "data": {
      "text/plain": [
       "76630"
      ]
     },
     "execution_count": 11,
     "metadata": {},
     "output_type": "execute_result"
    }
   ],
   "source": [
    "len(x)"
   ]
  },
  {
   "cell_type": "code",
   "execution_count": 9,
   "metadata": {},
   "outputs": [
    {
     "data": {
      "text/plain": [
       "<matplotlib.axes._subplots.AxesSubplot at 0x1b3c07f2ba8>"
      ]
     },
     "execution_count": 9,
     "metadata": {},
     "output_type": "execute_result"
    },
    {
     "data": {
      "image/png": "[encoded data removed]",
      "text/plain": [
       "<Figure size 432x288 with 2 Axes>"
      ]
     },
     "metadata": {
      "needs_background": "light"
     },
     "output_type": "display_data"
    }
   ],
   "source": [
    "sns.heatmap(x.isnull())"
   ]
  },
  {
   "cell_type": "code",
   "execution_count": null,
   "metadata": {},
   "outputs": [],
   "source": []
  },
  {
   "cell_type": "code",
   "execution_count": 5,
   "metadata": {},
   "outputs": [],
   "source": [
    "x['act_id'] = x.activity.factorize()[0]\n",
    "cat_id_df = x[['act_id', 'activity']].drop_duplicates().sort_values('act_id')\n",
    "cat_to_id = dict(cat_id_df.values)\n",
    "id_to_cat = dict(cat_id_df[['activity', 'act_id']].values)"
   ]
  },
  {
   "cell_type": "code",
   "execution_count": 6,
   "metadata": {},
   "outputs": [],
   "source": [
    "from sklearn.ensemble import RandomForestClassifier\n",
    "from sklearn.model_selection import train_test_split, cross_validate, cross_val_score, cross_val_predict\n",
    "from sklearn.metrics import classification_report, r2_score\n",
    "from sklearn.utils import shuffle"
   ]
  },
  {
   "cell_type": "code",
   "execution_count": 7,
   "metadata": {},
   "outputs": [],
   "source": [
    "x = shuffle(x)"
   ]
  },
  {
   "cell_type": "markdown",
   "metadata": {},
   "source": [
    "# Accel Data"
   ]
  },
  {
   "cell_type": "code",
   "execution_count": 8,
   "metadata": {},
   "outputs": [],
   "source": [
    "clf = RandomForestClassifier(n_estimators=10)\n",
    "CV = 5\n",
    "X = x[(x.sensor == 'accel_phone') | (x.sensor == 'accel_watch' )].drop(['sensor','activity', 'id'], axis=1)\n",
    "y = x[(x.sensor == 'accel_phone') | (x.sensor == 'accel_watch' )]['act_id']"
   ]
  },
  {
   "cell_type": "code",
   "execution_count": 9,
   "metadata": {},
   "outputs": [],
   "source": [
    "X_train, X_test, y_train, y_test = train_test_split(X, y, test_size=0.4, random_state=42)"
   ]
  },
  {
   "cell_type": "markdown",
   "metadata": {},
   "source": [
    "### Random Forest"
   ]
  },
  {
   "cell_type": "code",
   "execution_count": null,
   "metadata": {},
   "outputs": [],
   "source": [
    "accuracies = cross_val_score(clf, X, y, scoring='accuracy', cv=CV)\n",
    "accuracies"
   ]
  },
  {
   "cell_type": "code",
   "execution_count": null,
   "metadata": {
    "scrolled": false
   },
   "outputs": [],
   "source": [
    "clf = RandomForestClassifier(n_estimators=10)\n",
    "clf.fit(X_train, y_train)\n",
    "result = clf.predict(X_test)\n",
    "print(classification_report(y_test, result, target_names= list(map(dict_action.get , x['activity'].unique()))))"
   ]
  },
  {
   "cell_type": "markdown",
   "metadata": {},
   "source": [
    "## Cross val predict"
   ]
  },
  {
   "cell_type": "code",
   "execution_count": 18,
   "metadata": {},
   "outputs": [
    {
     "name": "stdout",
     "output_type": "stream",
     "text": [
      "                   precision    recall  f1-score   support\n",
      "\n",
      "drinking from cup       0.99      1.00      0.99      2412\n",
      "       basketball       0.99      0.99      0.99      2334\n",
      "           stairs       0.93      0.99      0.96      2275\n",
      "          jogging       0.93      0.94      0.93      2348\n",
      "           soccer       0.91      0.93      0.92      2391\n",
      "     eating chips       0.89      0.94      0.91      2220\n",
      "     eathing soup       0.85      0.89      0.87      2353\n",
      "     eating pasta       0.80      0.84      0.82      2362\n",
      "  folding clothes       0.77      0.78      0.78      2318\n",
      "          walking       0.80      0.78      0.79      2226\n",
      " eating sandwitch       0.83      0.79      0.81      2466\n",
      "           tennis       0.84      0.75      0.79      2307\n",
      "          writing       0.90      0.95      0.92      2402\n",
      "   brushing teeth       0.88      0.91      0.90      2372\n",
      "         clapping       0.93      0.88      0.90      2388\n",
      "          sitting       0.94      0.89      0.91      2339\n",
      "           typing       0.97      0.92      0.95      2345\n",
      "         standing       0.98      0.96      0.97      2343\n",
      "\n",
      "         accuracy                           0.90     42201\n",
      "        macro avg       0.90      0.90      0.90     42201\n",
      "     weighted avg       0.90      0.90      0.90     42201\n",
      "\n"
     ]
    }
   ],
   "source": [
    "result = cross_val_predict(clf, X, y, cv=10)\n",
    "print(classification_report(y, result, target_names= list(map(dict_action.get , x['activity'].unique())) ))"
   ]
  },
  {
   "cell_type": "code",
   "execution_count": null,
   "metadata": {},
   "outputs": [],
   "source": []
  },
  {
   "cell_type": "markdown",
   "metadata": {},
   "source": [
    "# Gyro Data"
   ]
  },
  {
   "cell_type": "code",
   "execution_count": 23,
   "metadata": {},
   "outputs": [],
   "source": [
    "clf = RandomForestClassifier(n_estimators=10)\n",
    "CV = 5\n",
    "X = x.drop(['sensor', 'activity'], axis=1)\n",
    "y = x['act_id']"
   ]
  },
  {
   "cell_type": "code",
   "execution_count": 20,
   "metadata": {},
   "outputs": [
    {
     "name": "stdout",
     "output_type": "stream",
     "text": [
      "                   precision    recall  f1-score   support\n",
      "\n",
      "drinking from cup       1.00      1.00      1.00       993\n",
      "       basketball       0.99      0.99      0.99       919\n",
      "           stairs       0.95      0.98      0.97       914\n",
      "          jogging       0.92      0.93      0.93       944\n",
      "           soccer       0.86      0.91      0.88       970\n",
      "     eating chips       0.84      0.92      0.88       879\n",
      "     eathing soup       0.80      0.85      0.82       930\n",
      "     eating pasta       0.73      0.79      0.76       945\n",
      "  folding clothes       0.70      0.71      0.70       933\n",
      "          walking       0.74      0.68      0.71       881\n",
      " eating sandwitch       0.75      0.73      0.74       996\n",
      "           tennis       0.74      0.65      0.69       915\n",
      "          writing       0.89      0.95      0.92       969\n",
      "   brushing teeth       0.90      0.90      0.90       929\n",
      "         clapping       0.92      0.88      0.90       969\n",
      "          sitting       0.90      0.83      0.86       903\n",
      "           typing       0.95      0.88      0.92       971\n",
      "         standing       0.98      0.96      0.97       921\n",
      "\n",
      "         accuracy                           0.87     16881\n",
      "        macro avg       0.86      0.86      0.86     16881\n",
      "     weighted avg       0.87      0.87      0.86     16881\n",
      "\n"
     ]
    }
   ],
   "source": [
    "clf = RandomForestClassifier(n_estimators=10)\n",
    "clf.fit(X_train, y_train)\n",
    "result = clf.predict(X_test)\n",
    "print(classification_report(y_test, result, target_names= list(map(dict_action.get , x['activity'].unique()))))"
   ]
  },
  {
   "cell_type": "markdown",
   "metadata": {},
   "source": [
    "## Cross val predict"
   ]
  },
  {
   "cell_type": "code",
   "execution_count": 21,
   "metadata": {},
   "outputs": [
    {
     "name": "stdout",
     "output_type": "stream",
     "text": [
      "                   precision    recall  f1-score   support\n",
      "\n",
      "drinking from cup       0.97      0.99      0.98      1938\n",
      "       basketball       0.97      0.99      0.98      1897\n",
      "           stairs       0.87      0.95      0.91      1849\n",
      "          jogging       0.87      0.91      0.89      1939\n",
      "           soccer       0.83      0.88      0.85      1936\n",
      "     eating chips       0.80      0.89      0.84      1864\n",
      "     eathing soup       0.82      0.81      0.82      1922\n",
      "     eating pasta       0.69      0.74      0.71      1903\n",
      "  folding clothes       0.67      0.68      0.67      1904\n",
      "          walking       0.71      0.68      0.70      1891\n",
      " eating sandwitch       0.73      0.71      0.72      1958\n",
      "           tennis       0.72      0.61      0.66      1896\n",
      "          writing       0.82      0.90      0.86      1925\n",
      "   brushing teeth       0.87      0.86      0.86      1888\n",
      "         clapping       0.91      0.84      0.88      1939\n",
      "          sitting       0.88      0.82      0.85      1929\n",
      "           typing       0.94      0.84      0.89      1919\n",
      "         standing       0.96      0.91      0.94      1932\n",
      "\n",
      "         accuracy                           0.83     34429\n",
      "        macro avg       0.83      0.83      0.83     34429\n",
      "     weighted avg       0.84      0.83      0.83     34429\n",
      "\n"
     ]
    }
   ],
   "source": [
    "result = cross_val_predict(clf, X, y, cv=10)\n",
    "print(classification_report(y, result, target_names= list(map(dict_action.get , x['activity'].unique()))))"
   ]
  },
  {
   "cell_type": "markdown",
   "metadata": {},
   "source": [
    "## Whole DF"
   ]
  },
  {
   "cell_type": "code",
   "execution_count": 13,
   "metadata": {},
   "outputs": [],
   "source": [
    "clf = RandomForestClassifier(n_estimators=10)\n",
    "CV = 5\n",
    "X = x.drop(['sensor', 'activity'], axis=1)\n",
    "y = x['act_id']\n",
    "X_train, X_test, y_train, y_test = train_test_split(X, y, test_size=0.3, random_state=42)"
   ]
  },
  {
   "cell_type": "code",
   "execution_count": 16,
   "metadata": {},
   "outputs": [
    {
     "name": "stdout",
     "output_type": "stream",
     "text": [
      "                   precision    recall  f1-score   support\n",
      "\n",
      "           soccer       0.99      1.00      1.00      1364\n",
      "         clapping       0.99      0.99      0.99      1283\n",
      "       basketball       0.93      0.98      0.95      1252\n",
      "           stairs       0.95      0.94      0.95      1297\n",
      "          jogging       0.94      0.92      0.93      1308\n",
      "     eating chips       0.89      0.94      0.91      1235\n",
      " eating sandwitch       0.84      0.87      0.86      1282\n",
      "           typing       0.77      0.82      0.79      1236\n",
      "     eathing soup       0.72      0.76      0.74      1237\n",
      "          walking       0.78      0.75      0.76      1218\n",
      "          sitting       0.84      0.79      0.81      1315\n",
      "     eating pasta       0.84      0.76      0.80      1229\n",
      "          writing       0.84      0.92      0.88      1316\n",
      "drinking from cup       0.90      0.87      0.88      1334\n",
      "  folding clothes       0.93      0.88      0.90      1307\n",
      "   brushing teeth       0.96      0.94      0.95      1251\n",
      "           tennis       0.98      0.94      0.96      1234\n",
      "         standing       0.99      0.97      0.98      1291\n",
      "\n",
      "         accuracy                           0.89     22989\n",
      "        macro avg       0.89      0.89      0.89     22989\n",
      "     weighted avg       0.89      0.89      0.89     22989\n",
      "\n"
     ]
    }
   ],
   "source": [
    "clf = RandomForestClassifier(n_estimators=10)\n",
    "clf.fit(X_train, y_train)\n",
    "result = clf.predict(X_test)\n",
    "print(classification_report(y_test, result, target_names= list(map(dict_action.get , x['activity'].unique()))))"
   ]
  },
  {
   "cell_type": "code",
   "execution_count": 24,
   "metadata": {},
   "outputs": [
    {
     "name": "stdout",
     "output_type": "stream",
     "text": [
      "                   precision    recall  f1-score   support\n",
      "\n",
      "drinking from cup       0.99      1.00      0.99      4350\n",
      "       basketball       0.99      0.99      0.99      4231\n",
      "           stairs       0.92      0.98      0.95      4124\n",
      "          jogging       0.91      0.93      0.92      4287\n",
      "           soccer       0.88      0.91      0.89      4327\n",
      "     eating chips       0.87      0.93      0.90      4084\n",
      "     eathing soup       0.85      0.87      0.86      4275\n",
      "     eating pasta       0.77      0.82      0.79      4265\n",
      "  folding clothes       0.74      0.76      0.75      4222\n",
      "          walking       0.79      0.76      0.77      4117\n",
      " eating sandwitch       0.82      0.79      0.81      4424\n",
      "           tennis       0.80      0.71      0.76      4203\n",
      "          writing       0.89      0.94      0.91      4327\n",
      "   brushing teeth       0.89      0.90      0.89      4260\n",
      "         clapping       0.93      0.88      0.91      4327\n",
      "          sitting       0.91      0.86      0.89      4268\n",
      "           typing       0.96      0.89      0.93      4264\n",
      "         standing       0.98      0.95      0.96      4275\n",
      "\n",
      "         accuracy                           0.88     76630\n",
      "        macro avg       0.88      0.88      0.88     76630\n",
      "     weighted avg       0.88      0.88      0.88     76630\n",
      "\n"
     ]
    }
   ],
   "source": [
    "result = cross_val_predict(clf, X, y, cv=10)\n",
    "print(classification_report(y, result, target_names= list(map(dict_action.get , x['activity'].unique()))))"
   ]
  },
  {
   "cell_type": "code",
   "execution_count": null,
   "metadata": {},
   "outputs": [],
   "source": []
  },
  {
   "cell_type": "markdown",
   "metadata": {},
   "source": [
    "# XGB"
   ]
  },
  {
   "cell_type": "code",
   "execution_count": 25,
   "metadata": {},
   "outputs": [],
   "source": [
    "from xgboost import XGBClassifier"
   ]
  },
  {
   "cell_type": "code",
   "execution_count": 26,
   "metadata": {},
   "outputs": [],
   "source": [
    "clf = XGBClassifier()"
   ]
  },
  {
   "cell_type": "markdown",
   "metadata": {},
   "source": [
    "## Accel data"
   ]
  },
  {
   "cell_type": "code",
   "execution_count": 27,
   "metadata": {},
   "outputs": [],
   "source": [
    "CV = 10\n",
    "X = x[(x.sensor == 'accel_phone') | (x.sensor == 'accel_watch' )].drop(['sensor','activity'], axis=1)\n",
    "y = x[(x.sensor == 'accel_phone') | (x.sensor == 'accel_watch' )]['act_id']"
   ]
  },
  {
   "cell_type": "code",
   "execution_count": 28,
   "metadata": {},
   "outputs": [],
   "source": [
    "X_train, X_test, y_train, y_test = train_test_split(X, y, test_size=0.4, random_state=42)"
   ]
  },
  {
   "cell_type": "code",
   "execution_count": 29,
   "metadata": {},
   "outputs": [
    {
     "name": "stdout",
     "output_type": "stream",
     "text": [
      "                   precision    recall  f1-score   support\n",
      "\n",
      "drinking from cup       1.00      1.00      1.00       993\n",
      "       basketball       1.00      1.00      1.00       919\n",
      "           stairs       1.00      1.00      1.00       914\n",
      "          jogging       1.00      1.00      1.00       944\n",
      "           soccer       1.00      1.00      1.00       970\n",
      "     eating chips       1.00      1.00      1.00       879\n",
      "     eathing soup       1.00      1.00      1.00       930\n",
      "     eating pasta       1.00      1.00      1.00       945\n",
      "  folding clothes       1.00      1.00      1.00       933\n",
      "          walking       1.00      1.00      1.00       881\n",
      " eating sandwitch       1.00      1.00      1.00       996\n",
      "           tennis       1.00      1.00      1.00       915\n",
      "          writing       1.00      1.00      1.00       969\n",
      "   brushing teeth       1.00      1.00      1.00       929\n",
      "         clapping       1.00      1.00      1.00       969\n",
      "          sitting       1.00      1.00      1.00       903\n",
      "           typing       1.00      1.00      1.00       971\n",
      "         standing       1.00      1.00      1.00       921\n",
      "\n",
      "         accuracy                           1.00     16881\n",
      "        macro avg       1.00      1.00      1.00     16881\n",
      "     weighted avg       1.00      1.00      1.00     16881\n",
      "\n"
     ]
    }
   ],
   "source": [
    "clf.fit(X_train, y_train)\n",
    "result = clf.predict(X_test)\n",
    "print(classification_report(y_test, result, target_names= list(map(dict_action.get , x['activity'].unique()))))"
   ]
  },
  {
   "cell_type": "code",
   "execution_count": 30,
   "metadata": {},
   "outputs": [
    {
     "name": "stdout",
     "output_type": "stream",
     "text": [
      "                   precision    recall  f1-score   support\n",
      "\n",
      "drinking from cup       1.00      1.00      1.00      2412\n",
      "       basketball       1.00      1.00      1.00      2334\n",
      "           stairs       1.00      1.00      1.00      2275\n",
      "          jogging       1.00      1.00      1.00      2348\n",
      "           soccer       1.00      1.00      1.00      2391\n",
      "     eating chips       1.00      1.00      1.00      2220\n",
      "     eathing soup       1.00      1.00      1.00      2353\n",
      "     eating pasta       1.00      1.00      1.00      2362\n",
      "  folding clothes       1.00      1.00      1.00      2318\n",
      "          walking       1.00      1.00      1.00      2226\n",
      " eating sandwitch       1.00      1.00      1.00      2466\n",
      "           tennis       1.00      1.00      1.00      2307\n",
      "          writing       1.00      1.00      1.00      2402\n",
      "   brushing teeth       1.00      1.00      1.00      2372\n",
      "         clapping       1.00      1.00      1.00      2388\n",
      "          sitting       1.00      1.00      1.00      2339\n",
      "           typing       1.00      1.00      1.00      2345\n",
      "         standing       1.00      1.00      1.00      2343\n",
      "\n",
      "         accuracy                           1.00     42201\n",
      "        macro avg       1.00      1.00      1.00     42201\n",
      "     weighted avg       1.00      1.00      1.00     42201\n",
      "\n"
     ]
    }
   ],
   "source": [
    "result = cross_val_predict(clf, X, y, cv=5)\n",
    "print(classification_report(y, result, target_names= list(map(dict_action.get , x['activity'].unique()))))"
   ]
  },
  {
   "cell_type": "code",
   "execution_count": null,
   "metadata": {},
   "outputs": [],
   "source": []
  },
  {
   "cell_type": "markdown",
   "metadata": {},
   "source": [
    "## Gyro Data"
   ]
  },
  {
   "cell_type": "code",
   "execution_count": 31,
   "metadata": {},
   "outputs": [],
   "source": [
    "CV = 5\n",
    "X = x[(x.sensor == 'gyro_phone') | (x.sensor == 'gyro_watch' )].drop(['sensor','activity'], axis=1)\n",
    "y = x[(x.sensor == 'gyro_phone') | (x.sensor == 'gyro_watch' )]['act_id']"
   ]
  },
  {
   "cell_type": "code",
   "execution_count": 32,
   "metadata": {},
   "outputs": [
    {
     "name": "stdout",
     "output_type": "stream",
     "text": [
      "                   precision    recall  f1-score   support\n",
      "\n",
      "drinking from cup       1.00      1.00      1.00       993\n",
      "       basketball       1.00      1.00      1.00       919\n",
      "           stairs       1.00      1.00      1.00       914\n",
      "          jogging       1.00      1.00      1.00       944\n",
      "           soccer       1.00      1.00      1.00       970\n",
      "     eating chips       1.00      1.00      1.00       879\n",
      "     eathing soup       1.00      1.00      1.00       930\n",
      "     eating pasta       1.00      1.00      1.00       945\n",
      "  folding clothes       1.00      1.00      1.00       933\n",
      "          walking       1.00      1.00      1.00       881\n",
      " eating sandwitch       1.00      1.00      1.00       996\n",
      "           tennis       1.00      1.00      1.00       915\n",
      "          writing       1.00      1.00      1.00       969\n",
      "   brushing teeth       1.00      1.00      1.00       929\n",
      "         clapping       1.00      1.00      1.00       969\n",
      "          sitting       1.00      1.00      1.00       903\n",
      "           typing       1.00      1.00      1.00       971\n",
      "         standing       1.00      1.00      1.00       921\n",
      "\n",
      "         accuracy                           1.00     16881\n",
      "        macro avg       1.00      1.00      1.00     16881\n",
      "     weighted avg       1.00      1.00      1.00     16881\n",
      "\n"
     ]
    }
   ],
   "source": [
    "clf.fit(X_train, y_train)\n",
    "result = clf.predict(X_test)\n",
    "print(classification_report(y_test, result, target_names= list(map(dict_action.get , x['activity'].unique()))))"
   ]
  },
  {
   "cell_type": "markdown",
   "metadata": {},
   "source": [
    "## Whole DF"
   ]
  },
  {
   "cell_type": "code",
   "execution_count": 33,
   "metadata": {},
   "outputs": [],
   "source": [
    "CV = 5\n",
    "X = x.drop(['sensor','activity'], axis=1)\n",
    "y = x['act_id']"
   ]
  },
  {
   "cell_type": "code",
   "execution_count": 34,
   "metadata": {},
   "outputs": [
    {
     "name": "stdout",
     "output_type": "stream",
     "text": [
      "                   precision    recall  f1-score   support\n",
      "\n",
      "drinking from cup       1.00      1.00      1.00       993\n",
      "       basketball       1.00      1.00      1.00       919\n",
      "           stairs       1.00      1.00      1.00       914\n",
      "          jogging       1.00      1.00      1.00       944\n",
      "           soccer       1.00      1.00      1.00       970\n",
      "     eating chips       1.00      1.00      1.00       879\n",
      "     eathing soup       1.00      1.00      1.00       930\n",
      "     eating pasta       1.00      1.00      1.00       945\n",
      "  folding clothes       1.00      1.00      1.00       933\n",
      "          walking       1.00      1.00      1.00       881\n",
      " eating sandwitch       1.00      1.00      1.00       996\n",
      "           tennis       1.00      1.00      1.00       915\n",
      "          writing       1.00      1.00      1.00       969\n",
      "   brushing teeth       1.00      1.00      1.00       929\n",
      "         clapping       1.00      1.00      1.00       969\n",
      "          sitting       1.00      1.00      1.00       903\n",
      "           typing       1.00      1.00      1.00       971\n",
      "         standing       1.00      1.00      1.00       921\n",
      "\n",
      "         accuracy                           1.00     16881\n",
      "        macro avg       1.00      1.00      1.00     16881\n",
      "     weighted avg       1.00      1.00      1.00     16881\n",
      "\n"
     ]
    }
   ],
   "source": [
    "clf.fit(X_train, y_train)\n",
    "result = clf.predict(X_test)\n",
    "print(classification_report(y_test, result, target_names= list(map(dict_action.get , x['activity'].unique()))))"
   ]
  },
  {
   "cell_type": "code",
   "execution_count": null,
   "metadata": {},
   "outputs": [],
   "source": []
  },
  {
   "cell_type": "markdown",
   "metadata": {},
   "source": [
    "# KNN"
   ]
  },
  {
   "cell_type": "code",
   "execution_count": 35,
   "metadata": {},
   "outputs": [],
   "source": [
    "from sklearn.neighbors import KNeighborsClassifier"
   ]
  },
  {
   "cell_type": "code",
   "execution_count": 36,
   "metadata": {},
   "outputs": [],
   "source": [
    "clf = KNeighborsClassifier(n_neighbors=18)"
   ]
  },
  {
   "cell_type": "markdown",
   "metadata": {},
   "source": [
    "# Whole DF"
   ]
  },
  {
   "cell_type": "code",
   "execution_count": 37,
   "metadata": {},
   "outputs": [],
   "source": [
    "X = x.drop(['sensor','activity'], axis=1)\n",
    "y = x['act_id']\n",
    "X_train, X_test, y_train, y_test = train_test_split(X, y, test_size=0.4, random_state=42)"
   ]
  },
  {
   "cell_type": "code",
   "execution_count": 38,
   "metadata": {
    "scrolled": false
   },
   "outputs": [
    {
     "name": "stdout",
     "output_type": "stream",
     "text": [
      "                   precision    recall  f1-score   support\n",
      "\n",
      "drinking from cup       0.70      0.74      0.72      1766\n",
      "       basketball       0.85      0.80      0.82      1693\n",
      "           stairs       0.55      0.52      0.53      1653\n",
      "          jogging       0.31      0.36      0.33      1719\n",
      "           soccer       0.36      0.44      0.40      1696\n",
      "     eating chips       0.36      0.46      0.41      1641\n",
      "     eathing soup       0.60      0.57      0.58      1663\n",
      "     eating pasta       0.40      0.44      0.42      1691\n",
      "  folding clothes       0.31      0.33      0.32      1644\n",
      "          walking       0.39      0.37      0.38      1614\n",
      " eating sandwitch       0.38      0.39      0.38      1789\n",
      "           tennis       0.37      0.29      0.33      1705\n",
      "          writing       0.45      0.61      0.52      1729\n",
      "   brushing teeth       0.42      0.38      0.40      1694\n",
      "         clapping       0.52      0.45      0.48      1728\n",
      "          sitting       0.39      0.33      0.36      1747\n",
      "           typing       0.63      0.52      0.57      1720\n",
      "         standing       0.66      0.48      0.56      1760\n",
      "\n",
      "         accuracy                           0.47     30652\n",
      "        macro avg       0.48      0.47      0.47     30652\n",
      "     weighted avg       0.48      0.47      0.47     30652\n",
      "\n"
     ]
    }
   ],
   "source": [
    "clf.fit(X_train, y_train)\n",
    "result = clf.predict(X_test)\n",
    "print(classification_report(y_test, result, target_names= list(map(dict_action.get , x['activity'].unique()))))"
   ]
  },
  {
   "cell_type": "code",
   "execution_count": null,
   "metadata": {},
   "outputs": [],
   "source": []
  },
  {
   "cell_type": "code",
   "execution_count": null,
   "metadata": {},
   "outputs": [],
   "source": []
  },
  {
   "cell_type": "code",
   "execution_count": null,
   "metadata": {},
   "outputs": [],
   "source": []
  },
  {
   "cell_type": "code",
   "execution_count": null,
   "metadata": {},
   "outputs": [],
   "source": []
  },
  {
   "cell_type": "code",
   "execution_count": null,
   "metadata": {},
   "outputs": [],
   "source": []
  },
  {
   "cell_type": "code",
   "execution_count": null,
   "metadata": {},
   "outputs": [],
   "source": []
  },
  {
   "cell_type": "code",
   "execution_count": null,
   "metadata": {},
   "outputs": [],
   "source": []
  },
  {
   "cell_type": "code",
   "execution_count": null,
   "metadata": {},
   "outputs": [],
   "source": []
  },
  {
   "cell_type": "code",
   "execution_count": null,
   "metadata": {},
   "outputs": [],
   "source": []
  },
  {
   "cell_type": "code",
   "execution_count": null,
   "metadata": {},
   "outputs": [],
   "source": []
  },
  {
   "cell_type": "code",
   "execution_count": null,
   "metadata": {},
   "outputs": [],
   "source": []
  }
 ],
 "metadata": {
  "kernelspec": {
   "display_name": "Python 3",
   "language": "python",
   "name": "python3"
  },
  "language_info": {
   "codemirror_mode": {
    "name": "ipython",
    "version": 3
   },
   "file_extension": ".py",
   "mimetype": "text/x-python",
   "name": "python",
   "nbconvert_exporter": "python",
   "pygments_lexer": "ipython3",
   "version": "3.7.3"
  }
 },
 "nbformat": 4,
 "nbformat_minor": 2
}
